{
 "cells": [
  {
   "cell_type": "code",
   "execution_count": 3,
   "metadata": {},
   "outputs": [],
   "source": [
    "# 한국투자증권 API 를 쉽게 사용하기 위한 라이브러리 입니다.\n",
    "# !pip install mojito2"
   ]
  },
  {
   "cell_type": "code",
   "execution_count": 1,
   "metadata": {},
   "outputs": [
    {
     "name": "stdout",
     "output_type": "stream",
     "text": [
      "<mojito.koreainvestment.KoreaInvestment object at 0x0000021BE829BD00>\n"
     ]
    }
   ],
   "source": [
    "import mojito\n",
    "from config import APP_KEY, SECRET_KEY, ACCOUNT\n",
    "\n",
    "broker = mojito.KoreaInvestment(\n",
    "    api_key=APP_KEY,\n",
    "    api_secret=SECRET_KEY,\n",
    "    acc_no=ACCOUNT,\n",
    "    mock=True\n",
    ")\n",
    "\n",
    "print(broker)"
   ]
  },
  {
   "cell_type": "code",
   "execution_count": 9,
   "metadata": {},
   "outputs": [
    {
     "name": "stdout",
     "output_type": "stream",
     "text": [
      "50090274\n"
     ]
    }
   ],
   "source": []
  }
 ],
 "metadata": {
  "kernelspec": {
   "display_name": "Python 3.8.13 ('trading')",
   "language": "python",
   "name": "python3"
  },
  "language_info": {
   "codemirror_mode": {
    "name": "ipython",
    "version": 3
   },
   "file_extension": ".py",
   "mimetype": "text/x-python",
   "name": "python",
   "nbconvert_exporter": "python",
   "pygments_lexer": "ipython3",
   "version": "3.8.13"
  },
  "orig_nbformat": 4,
  "vscode": {
   "interpreter": {
    "hash": "ea3634ac9758c89ab5fd8efbc42df8f80666684380075efaee47572d60c17e89"
   }
  }
 },
 "nbformat": 4,
 "nbformat_minor": 2
}
