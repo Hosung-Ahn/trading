{
 "cells": [
  {
   "cell_type": "code",
   "execution_count": null,
   "metadata": {},
   "outputs": [],
   "source": []
  }
 ],
 "metadata": {
  "kernelspec": {
   "display_name": "Python 3.10.6 ('trading')",
   "language": "python",
   "name": "python3"
  },
  "language_info": {
   "name": "python",
   "version": "3.10.6"
  },
  "orig_nbformat": 4,
  "vscode": {
   "interpreter": {
    "hash": "ea3634ac9758c89ab5fd8efbc42df8f80666684380075efaee47572d60c17e89"
   }
  }
 },
 "nbformat": 4,
 "nbformat_minor": 2
}
